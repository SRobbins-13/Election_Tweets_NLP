{
 "cells": [
  {
   "cell_type": "markdown",
   "id": "8c9b8182",
   "metadata": {},
   "source": [
    "# 1a. Pull Candidate Tweets with API"
   ]
  },
  {
   "cell_type": "code",
   "execution_count": 1,
   "id": "485012f1",
   "metadata": {},
   "outputs": [],
   "source": [
    "import tweepy, json\n",
    "import pandas as pd\n",
    "import numpy as np\n",
    "import matplotlib as mlt\n",
    "import pickle"
   ]
  },
  {
   "cell_type": "code",
   "execution_count": 2,
   "id": "bcb2d910",
   "metadata": {},
   "outputs": [],
   "source": [
    "consumer_key = 'XXXXXXXXX'\n",
    "consumer_secret = 'XXXXXXXXX'\n",
    "\n",
    "access_token = 'XXXXXXXXX'\n",
    "access_token_secret = 'XXXXXXXXX'"
   ]
  },
  {
   "cell_type": "markdown",
   "id": "a2cacd93",
   "metadata": {},
   "source": [
    "### Testing the Method with One Candidate"
   ]
  },
  {
   "cell_type": "code",
   "execution_count": null,
   "id": "9f491889",
   "metadata": {},
   "outputs": [],
   "source": [
    "user = 'TerryMcAuliffe'\n",
    "\n",
    "auth = tweepy.OAuthHandler(consumer_key, consumer_secret)\n",
    "auth.set_access_token(access_token, access_token_secret)\n",
    "api = tweepy.API(auth, wait_on_rate_limit=True, wait_on_rate_limit_notify=True,\n",
    "             parser=tweepy.parsers.JSONParser())\n",
    "\n",
    "tweets = api.user_timeline(screen_name = user,\n",
    "                           count = 200,\n",
    "                           include_rts = True,\n",
    "                           tweet_mode = 'extended')\n",
    "### `tweets` object is a list of dictionaries for individual tweets"
   ]
  },
  {
   "cell_type": "code",
   "execution_count": null,
   "id": "7c774474",
   "metadata": {},
   "outputs": [],
   "source": [
    "all_tweets = []\n",
    "all_tweets.extend(tweets)\n",
    "oldest_id = tweets[-1]['id']\n",
    "while True:\n",
    "    tweets = api.user_timeline(screen_name=user, \n",
    "                           count=200,\n",
    "                           include_rts = True,\n",
    "                           max_id = oldest_id - 1,\n",
    "                           tweet_mode = 'extended'\n",
    "                           )\n",
    "    if len(tweets) == 0:\n",
    "        break\n",
    "    oldest_id = tweets[-1]['id']\n",
    "    all_tweets.extend(tweets)\n",
    "    print('N of tweets downloaded till now {}'.format(len(all_tweets)))"
   ]
  },
  {
   "cell_type": "code",
   "execution_count": null,
   "id": "bd70e551",
   "metadata": {},
   "outputs": [],
   "source": [
    "import pickle\n",
    "open_file = open('McAuliffe_tweets.pkl', 'wb')\n",
    "pickle.dump(all_tweets, open_file)\n",
    "open_file.close()"
   ]
  },
  {
   "cell_type": "markdown",
   "id": "ccd68255",
   "metadata": {},
   "source": [
    "### Defining Function to Pull Tweets for Other Candidates"
   ]
  },
  {
   "cell_type": "code",
   "execution_count": 5,
   "id": "dd1d17ad",
   "metadata": {},
   "outputs": [],
   "source": [
    "def pull_tweets(user, file_name):\n",
    "    auth = tweepy.OAuthHandler(consumer_key, consumer_secret)\n",
    "    auth.set_access_token(access_token, access_token_secret)\n",
    "    api = tweepy.API(auth, wait_on_rate_limit=True, wait_on_rate_limit_notify=True,\n",
    "                 parser=tweepy.parsers.JSONParser())\n",
    "\n",
    "    tweets = api.user_timeline(screen_name = user,\n",
    "                               count = 200,\n",
    "                               include_rts = True,\n",
    "                               tweet_mode = 'extended')\n",
    "    all_tweets = []\n",
    "    all_tweets.extend(tweets)\n",
    "    oldest_id = tweets[-1]['id']\n",
    "    while True:\n",
    "        tweets = api.user_timeline(screen_name=user, \n",
    "                               count=200,\n",
    "                               include_rts = True,\n",
    "                               max_id = oldest_id - 1,\n",
    "                               tweet_mode = 'extended'\n",
    "                               )\n",
    "        if len(tweets) == 0:\n",
    "            break\n",
    "        oldest_id = tweets[-1]['id']\n",
    "        all_tweets.extend(tweets)\n",
    "        print('N of tweets downloaded till now {}'.format(len(all_tweets)))\n",
    "        \n",
    "    open_file = open(file_name, 'wb')\n",
    "    pickle.dump(all_tweets, open_file)\n",
    "    open_file.close()\n",
    "    print('File successfully pickled')"
   ]
  },
  {
   "cell_type": "code",
   "execution_count": 6,
   "id": "64dff425",
   "metadata": {},
   "outputs": [
    {
     "name": "stdout",
     "output_type": "stream",
     "text": [
      "N of tweets downloaded till now 399\n",
      "N of tweets downloaded till now 599\n",
      "N of tweets downloaded till now 799\n",
      "N of tweets downloaded till now 999\n",
      "N of tweets downloaded till now 1199\n",
      "N of tweets downloaded till now 1399\n",
      "N of tweets downloaded till now 1599\n",
      "N of tweets downloaded till now 1782\n",
      "File successfully pickled\n"
     ]
    }
   ],
   "source": [
    "pull_tweets('GlennYoungkin','Youngkin_tweets.pkl')"
   ]
  },
  {
   "cell_type": "code",
   "execution_count": 7,
   "id": "c23f606d",
   "metadata": {},
   "outputs": [
    {
     "name": "stdout",
     "output_type": "stream",
     "text": [
      "N of tweets downloaded till now 400\n",
      "N of tweets downloaded till now 600\n",
      "N of tweets downloaded till now 800\n",
      "N of tweets downloaded till now 1000\n",
      "N of tweets downloaded till now 1200\n",
      "N of tweets downloaded till now 1399\n",
      "N of tweets downloaded till now 1599\n",
      "N of tweets downloaded till now 1799\n",
      "N of tweets downloaded till now 1999\n",
      "N of tweets downloaded till now 2199\n",
      "N of tweets downloaded till now 2397\n",
      "N of tweets downloaded till now 2596\n",
      "N of tweets downloaded till now 2796\n",
      "N of tweets downloaded till now 2996\n",
      "N of tweets downloaded till now 3196\n",
      "N of tweets downloaded till now 3246\n",
      "File successfully pickled\n"
     ]
    }
   ],
   "source": [
    "pull_tweets('GovMurphy','MurphyNJ_tweets.pkl')"
   ]
  },
  {
   "cell_type": "code",
   "execution_count": 8,
   "id": "5bcdb265",
   "metadata": {},
   "outputs": [
    {
     "name": "stdout",
     "output_type": "stream",
     "text": [
      "N of tweets downloaded till now 400\n",
      "N of tweets downloaded till now 600\n",
      "N of tweets downloaded till now 800\n",
      "N of tweets downloaded till now 1000\n",
      "N of tweets downloaded till now 1200\n",
      "N of tweets downloaded till now 1399\n",
      "N of tweets downloaded till now 1597\n",
      "N of tweets downloaded till now 1797\n",
      "N of tweets downloaded till now 1997\n",
      "N of tweets downloaded till now 2168\n",
      "File successfully pickled\n"
     ]
    }
   ],
   "source": [
    "pull_tweets('Jack4NJ','CiattarelliNJ_tweets.pkl')"
   ]
  }
 ],
 "metadata": {
  "kernelspec": {
   "display_name": "Python [conda env:metis] *",
   "language": "python",
   "name": "conda-env-metis-py"
  },
  "language_info": {
   "codemirror_mode": {
    "name": "ipython",
    "version": 3
   },
   "file_extension": ".py",
   "mimetype": "text/x-python",
   "name": "python",
   "nbconvert_exporter": "python",
   "pygments_lexer": "ipython3",
   "version": "3.8.10"
  }
 },
 "nbformat": 4,
 "nbformat_minor": 5
}
