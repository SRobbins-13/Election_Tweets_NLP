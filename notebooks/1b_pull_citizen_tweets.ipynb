{
 "cells": [
  {
   "cell_type": "markdown",
   "id": "6d7196d4",
   "metadata": {},
   "source": [
    "# 1b. Pull General User Tweets with API"
   ]
  },
  {
   "cell_type": "code",
   "execution_count": 9,
   "id": "3231d9a4",
   "metadata": {},
   "outputs": [],
   "source": [
    "import tweepy, json, logging\n",
    "import pandas as pd\n",
    "import numpy as np\n",
    "import matplotlib as mlt\n",
    "import pickle"
   ]
  },
  {
   "cell_type": "code",
   "execution_count": 10,
   "id": "dde41468",
   "metadata": {},
   "outputs": [],
   "source": [
    "logging.basicConfig(filename='twitter_error_log_1.log',filemode='w', level=logging.ERROR)"
   ]
  },
  {
   "cell_type": "code",
   "execution_count": 11,
   "id": "5feadf97",
   "metadata": {},
   "outputs": [],
   "source": [
    "consumer_key = 'XXXXXXXXX'\n",
    "consumer_secret = 'XXXXXXXXX'\n",
    "\n",
    "access_token = 'XXXXXXXXX'\n",
    "access_token_secret = 'XXXXXXXXX'"
   ]
  },
  {
   "cell_type": "code",
   "execution_count": 12,
   "id": "66f4a343",
   "metadata": {},
   "outputs": [],
   "source": [
    "auth = tweepy.AppAuthHandler(consumer_key, consumer_secret)\n",
    "#auth.set_access_token(access_token, access_token_secret)\n",
    " \n",
    "api = tweepy.API(auth, wait_on_rate_limit=True, wait_on_rate_limit_notify=True,\n",
    "                 parser=tweepy.parsers.JSONParser()\n",
    "                )"
   ]
  },
  {
   "cell_type": "code",
   "execution_count": 13,
   "id": "604da0b1",
   "metadata": {},
   "outputs": [],
   "source": [
    "virginia_search = ('(virginia AND (democrats OR republicans OR “house of delegates” OR hod OR #GOTV OR politics OR elections OR governor OR senate)) OR #VAGov OR #VASen OR #VA2021 OR terrymcauliffe OR (terry AND mcauliffe) OR glennyoungkin OR (glenn AND youngkin)')\n",
    "\n",
    "nj_search = ('((“new jersey” OR NJ) AND (democrats OR republicans OR house OR #GOTV OR politics OR elections OR governor OR senate)) OR #NJGov OR #NJSen OR #NJ2021 OR philmurphy OR (phil AND murphy) OR jackciattarelli OR (jack AND ciattarelli)')\n"
   ]
  },
  {
   "cell_type": "code",
   "execution_count": 14,
   "id": "3c54f149",
   "metadata": {},
   "outputs": [],
   "source": [
    "def pull_public_tweets(searchQuery, state):\n",
    "    maxTweets = 2000000000 # Some arbitrary large number\n",
    "    tweetsPerQry = 100  # max the API permits\n",
    "\n",
    "    # default to no lower limit, go as far back as API allows\n",
    "    sinceId = None\n",
    "\n",
    "    # default to no upper limit, start from the most recent tweet matching the search query.\n",
    "    max_id = -1\n",
    "\n",
    "    tweetCount = 0\n",
    "    tweetFiles = 0\n",
    "    msg =  \"Downloading max {0} tweets\".format(maxTweets)\n",
    "    logging.error(msg)\n",
    "    tweets = []\n",
    "    while 4000*tweetFiles + tweetCount < maxTweets:\n",
    "        try:\n",
    "            if (max_id <= 0):\n",
    "                if (not sinceId):\n",
    "                    new_tweets = api.search(q=searchQuery, count=tweetsPerQry, tweet_mode = 'extended')\n",
    "                else:\n",
    "                    new_tweets = api.search(q=searchQuery, count=tweetsPerQry,\n",
    "                                            since_id=sinceId, tweet_mode = 'extended')\n",
    "            else:\n",
    "                if (not sinceId):\n",
    "                    new_tweets = api.search(q=searchQuery, count=tweetsPerQry,\n",
    "                                            max_id=str(max_id - 1), tweet_mode = 'extended')\n",
    "                else:\n",
    "                    new_tweets = api.search(q=searchQuery, count=tweetsPerQry,\n",
    "                                            max_id=str(max_id - 1),\n",
    "                                            since_id=sinceId, tweet_mode = 'extended')\n",
    "\n",
    "            new_tweets = new_tweets['statuses']\n",
    "            if len(new_tweets) == 0:\n",
    "                msg = 'No tweets found'\n",
    "                logging.error(msg)\n",
    "                break\n",
    "\n",
    "            tweets.extend(new_tweets)\n",
    "            tweetCount += len(new_tweets)\n",
    "            msg = \"Downloaded {0} tweets\".format(tweetCount + tweetFiles*4000)\n",
    "            logging.error(msg)\n",
    "            max_id = new_tweets[-1]['id']\n",
    "\n",
    "            if tweetCount > 4000:\n",
    "                with open(state+'tweets'+str(tweetFiles)+'.json', 'w') as outfile:  \n",
    "                    json.dump(tweets, outfile)\n",
    "                msg = \"JSON file saved\"\n",
    "                logging.error(msg)\n",
    "                tweetFiles += 1\n",
    "                tweetCount = 0\n",
    "                del tweets[:]\n",
    "\n",
    "        except tweepy.TweepError as e:\n",
    "            msg = 'Query failed when max_id equaled {0}: {1}'.format(max_id, e)\n",
    "            logging.error(msg)\n",
    "\n",
    "    if tweetCount > 0:\n",
    "        with open(state+'tweets'+str(tweetFiles)+'.json', 'w') as outfile:  \n",
    "            json.dump(tweets, outfile)\n",
    "        msg = \"JSON file saved\"\n",
    "        logging.error(msg)\n",
    "        tweetFiles += 1\n",
    "        tweetCount = 0"
   ]
  },
  {
   "cell_type": "code",
   "execution_count": 15,
   "id": "9965140a",
   "metadata": {},
   "outputs": [],
   "source": [
    "pull_public_tweets(virginia_search, state = 'virginia')"
   ]
  },
  {
   "cell_type": "code",
   "execution_count": 16,
   "id": "36c6821f",
   "metadata": {},
   "outputs": [],
   "source": [
    "pull_public_tweets(nj_search, state = 'new_jersey')"
   ]
  },
  {
   "cell_type": "code",
   "execution_count": null,
   "id": "d05817fd",
   "metadata": {},
   "outputs": [],
   "source": []
  }
 ],
 "metadata": {
  "kernelspec": {
   "display_name": "Python [conda env:metis] *",
   "language": "python",
   "name": "conda-env-metis-py"
  },
  "language_info": {
   "codemirror_mode": {
    "name": "ipython",
    "version": 3
   },
   "file_extension": ".py",
   "mimetype": "text/x-python",
   "name": "python",
   "nbconvert_exporter": "python",
   "pygments_lexer": "ipython3",
   "version": "3.8.10"
  }
 },
 "nbformat": 4,
 "nbformat_minor": 5
}
